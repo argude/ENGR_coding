{
 "cells": [
  {
   "cell_type": "markdown",
   "metadata": {},
   "source": [
    "## Prerequisites\n",
    "\n",
    "Matlab Tutorials 1 & 2\n",
    "\n",
    "# 1. Recap\n",
    "\n",
    "In Matlab Tutorial 1, you learned about carrying out **computations** with numbers stored in **variables**. It was great to see how you could change the value of a varaible and immediately carry out the same computation based on the new value. But sometimes you want your code to carry out a different computation based on the values you have. In this case, **we can use control statements to give Matlab conditional instructions**."
   ]
  },
  {
   "cell_type": "markdown",
   "metadata": {},
   "source": [
    "# 2. A control statement gives you options for what your code does\n",
    "\n",
    "For example, suppose we were working with a **piecewise function** like the step function:\n",
    "\n",
    "\\begin{equation}\n",
    "S(x) = \\left\\{  \\begin{array}{cc} 0 & \\textrm{if } x \\leq 0 \\\\ 1 & \\textrm{if } x > 0 \\end{array} \\right.\n",
    "\\end{equation}\n",
    "\n",
    "We could implement this important function if we could give Matlab two sets of instructions: One set of instructions to follow if $x$ is positive and one set to follow if $x$ is not positive.\n",
    "\n",
    "# 3. A control statement is structured using ``if`` and ``else``\n",
    "\n",
    "In the code cell below, we use the ``if`` and ``else`` keywords to create the step function. Line 5 uses ``if`` to indicate that Matlab should check for whether the statement ``x > 0`` is true; it's like asking a question. If this statement is true, then Matlab executes all the indented lines before the ``else``. This setup is very similar to a loop.\n",
    "\n",
    "We then use ``else`` in Line 9 to specify what Matlab should do if ``x > 0`` is false. This is the alternative set of instructions. Again, Matlab will execute all the indented lines until the ``end``. When we reach the ``end``, the control statement is finished.\n",
    "\n",
    "Change the value of ``x`` in the code cell below to different positive and negative values and run the code cell each time. What happens to ``s``?\n"
   ]
  },
  {
   "cell_type": "code",
   "execution_count": 2,
   "metadata": {},
   "outputs": [
    {
     "name": "stdout",
     "output_type": "stream",
     "text": [
      "     1\n",
      "\n"
     ]
    }
   ],
   "source": [
    "% Set the value of x.\n",
    "x = 2;\n",
    "\n",
    "% Set up the condition for the step function.\n",
    "if x > 0\n",
    "    % Here are the instructions to follow if x > 0 is true.\n",
    "    s = 1;\n",
    "\n",
    "else\n",
    "    % Here are the instructions to follow if x > 0 is false.\n",
    "    s = 0;\n",
    "    \n",
    "end\n",
    "\n",
    "% Now show the result.\n",
    "disp(s)"
   ]
  },
  {
   "cell_type": "markdown",
   "metadata": {},
   "source": [
    "To give yourself an idea of what is happening, indent Line 8 and add a ``disp`` command with a text message in quotation marks. Do the same thing in Line 12, but give it a different message. Run this code cell again using several different positive and negative values of ``x``. How does your modified code cell illustrate how Matlab will take the ``if`` set of instructions **or** the ``else`` set of instructions but not both?"
   ]
  },
  {
   "cell_type": "markdown",
   "metadata": {},
   "source": [
    "# 4. Example: Telling even from odd.\n",
    "\n",
    "Let's try something that will prove useful to us later: Asking Matlab whether a number is even or odd. There's a special function called the **modulo** that makes this question straightforward to evaluate. Matlab uses the ``mod`` symbol for the modulo, such that ``mod(7,3)`` returns the **remainder** leftover when we divide 7 by 3: $7/3 = 2$ with a remainder of $1$.\n",
    "\n",
    "If we wanted to tell whether ``n`` was even or odd, we could use ``mod(n,2)`` and identify whether the answer is ``1`` ($n$ is odd) or ``0`` ($n$ is even). The code cell below carries out this procedure."
   ]
  },
  {
   "cell_type": "code",
   "execution_count": 8,
   "metadata": {},
   "outputs": [
    {
     "name": "stdout",
     "output_type": "stream",
     "text": [
      "\n",
      "n =\n",
      "\n",
      "    11\n",
      "\n",
      "n is odd\n"
     ]
    }
   ],
   "source": [
    "n = 11\n",
    "\n",
    "if mod(n,2) == 0\n",
    "    disp('n is even')\n",
    "else\n",
    "    disp('n is odd')\n",
    "end"
   ]
  },
  {
   "cell_type": "markdown",
   "metadata": {},
   "source": [
    "Notice that `==` is Matlab's way of asking \"Are these two things equal?\" with an answer of true or false.\n",
    "\n",
    "Modify the code cell above to tell whether $n$ is divisible by 5."
   ]
  },
  {
   "cell_type": "markdown",
   "metadata": {},
   "source": [
    "# 5. Control statements are hand inside a loop\n",
    "\n",
    "In Matlab Tutorial 2, you learned about how **loops** can repeat the same set of instructions repeatedly. Control statements are very useful **inside a loop** since the variables we use in the loop can change.\n",
    "\n",
    "The code cell below tells us whether each integer from $0$ to $10$ is even or odd."
   ]
  },
  {
   "cell_type": "code",
   "execution_count": 1,
   "metadata": {},
   "outputs": [
    {
     "name": "stdout",
     "output_type": "stream",
     "text": [
      "     0\n",
      "\n",
      "even\n",
      "     1\n",
      "\n",
      "odd\n",
      "     2\n",
      "\n",
      "even\n",
      "     3\n",
      "\n",
      "odd\n",
      "     4\n",
      "\n",
      "even\n",
      "     5\n",
      "\n",
      "odd\n",
      "     6\n",
      "\n",
      "even\n",
      "     7\n",
      "\n",
      "odd\n",
      "     8\n",
      "\n",
      "even\n",
      "     9\n",
      "\n",
      "odd\n",
      "    10\n",
      "\n",
      "even\n"
     ]
    }
   ],
   "source": [
    "for n = 0:1:10\n",
    "    if mod(n,2) == 0\n",
    "        disp(n)\n",
    "        disp('even')\n",
    "    else\n",
    "        disp(n)\n",
    "        disp('odd')\n",
    "    end\n",
    "end"
   ]
  },
  {
   "cell_type": "markdown",
   "metadata": {},
   "source": [
    "Why do we have to indent the disp commands **twice?**"
   ]
  },
  {
   "cell_type": "markdown",
   "metadata": {},
   "source": [
    "# 6. Let's use control statements to calculate $e^{-1}$\n",
    "\n",
    "This trick is about to prove very useful.\n",
    "\n",
    "We've previously used a loop to evaluate the series expansion for $e$:\n",
    "\\begin{equation}\n",
    "e = 1 + \\frac{1}{1!} + \\frac{1}{2!} + \\frac{1}{3!} + \\frac{1}{4!} + \\frac{1}{5!} + \\frac{1}{6!} + \\ldots\n",
    "\\end{equation}\n",
    "\n",
    "There's a similar expansion for its inverse $e^{-1}$:\n",
    "\\begin{equation}\n",
    "e = 1 - \\frac{1}{1!} + \\frac{1}{2!} - \\frac{1}{3!} + \\frac{1}{4!} - \\frac{1}{5!} + \\frac{1}{6!} - \\ldots\n",
    "\\end{equation}\n",
    "The key difference is that **the odd-numbered terms are subtracted** instead of added.\n",
    "\n",
    "How could we use a loop with a control statement to calculate $e^{-1}$? Fill in the missing lines of code below! Use your Tutorial 2 as a reference. Your answer should be close to $0.367879$."
   ]
  },
  {
   "cell_type": "code",
   "execution_count": null,
   "metadata": {},
   "outputs": [],
   "source": [
    "eInverse = 1\n",
    "factorial = 1\n",
    "\n",
    "for n = 1:1:10\n",
    "    factorial = factorial * n;\n",
    "    if mod(n,2) == 0\n",
    "        ??\n",
    "    else\n",
    "        ??\n",
    "end\n",
    "disp(eInverse)"
   ]
  },
  {
   "cell_type": "markdown",
   "metadata": {},
   "source": [
    "# 7. Your turn\n",
    "\n",
    "You previously developed a code cell that would calculate an array of gravitational potential energy values $U$ for two objects separated by an array of distance values $r$. You probably noticed that the values of $U$ drop off in magnitude farily quickly, such that far enough away, it's essentially zero.\n",
    "\n",
    "Copy and paste that code cell below. Then, add a control statement that sets this value $U$ to zero if $r$ is greater than 10. Run this code, print the results, and demosntrate where your $U$ drops to zero."
   ]
  },
  {
   "cell_type": "code",
   "execution_count": null,
   "metadata": {},
   "outputs": [],
   "source": [
    "# Paste and modify your code here."
   ]
  }
 ],
 "metadata": {
  "kernelspec": {
   "display_name": "Matlab",
   "language": "matlab",
   "name": "matlab"
  },
  "language_info": {
   "codemirror_mode": "octave",
   "file_extension": ".m",
   "help_links": [
    {
     "text": "MetaKernel Magics",
     "url": "https://github.com/calysto/metakernel/blob/master/metakernel/magics/README.md"
    }
   ],
   "mimetype": "text/x-octave",
   "name": "matlab",
   "version": "0.15.1"
  }
 },
 "nbformat": 4,
 "nbformat_minor": 2
}
