{
 "cells": [
  {
   "cell_type": "markdown",
   "metadata": {},
   "source": [
    "## Prerequisites\n",
    "\n",
    "Octave Tutorial 1\n",
    "\n",
    "# 1. Recap\n",
    "\n",
    "In Octave Tutorial 1, you learned about carrying out **computations** with numbers stored in **variables**. We hope you saw the advantage of using Octave for **repeated computations** since you can adjust the variables' values and re-run the code as many times as you need. In this tutorial, we'll learn about how you can place your repeated computations **in your own functions**."
   ]
  },
  {
   "cell_type": "markdown",
   "metadata": {},
   "source": [
    "# 2. A function is a repeatable segment of code\n",
    "\n",
    "In mathematics, a **function** is relationship or set of instructions that maps one value onto another. If $f(x) = x^2$, then we can say that $f$ maps the **input value** $x$ onto an **output value** $x^2$. We can even make a function of multiple inputs, like the magnitude of a position vector: $r(x,y) = \\sqrt{x^2 + y^2}$. The single out $r$ is determined by two inputs $x$ and $y$.\n",
    "\n",
    "In Octave, a function works much the same way. We can specify any number of input variables and any number of output variables. For example, in the code cell below, we set up a function to calculate $r(x,y)$ for us.\n",
    "\n",
    "A function needs to be defined in a separate file, with the same name as the function.\n",
    "\n",
    "Read the code cell below."
   ]
  },
  {
   "cell_type": "code",
   "execution_count": 5,
   "metadata": {},
   "outputs": [
    {
     "name": "stdout",
     "output_type": "stream",
     "text": [
      "calling function\n",
      "starting function\n",
      "\n",
      "r =\n",
      "\n",
      "     5\n",
      "\n",
      "\n",
      "distance =\n",
      "\n",
      "     5\n",
      "\n"
     ]
    }
   ],
   "source": [
    "% Our function is defined in file PositionMagnitude.m.\n",
    "% It needs to be located in the same folder as this notebook.\n",
    "% Open this file to see how it works!\n",
    "\n",
    "% Call the function with a set of inputs and save the result.\n",
    "disp('calling function')\n",
    "distance = PositionMagnitude(3,4) \n",
    "\n",
    "% Copy, paste, and modify Lines 6-7 here.\n",
    "\n",
    "\n"
   ]
  },
  {
   "cell_type": "markdown",
   "metadata": {},
   "source": [
    "Think of the function as a set of instructions we're telling Octave ahead of time. Then, when we **call** the function in Line 7, Octave looks for the function definition in the file with the function's name.\n",
    "\n",
    "Run the code cell above. Describe what happens with the output.\n",
    "\n",
    "<details>\n",
    "<summary>Click here for an answer.</summary>\n",
    "\n",
    "We see output from the code cell *and* from the function, when the function is called.\n",
    "    \n",
    "</details>\n",
    "\n",
    "In the code cell above, copy and paste Lines 6-7 starting in Line 10. Modify the values inside your new call to ``PositionMagnitude``. Run the code cell.\n",
    "\n",
    "How many times is `PositionMagnitude` called? How can you tell? What happens to the values of `x` and `y` in the function?\n",
    "\n",
    "<details>\n",
    "<summary>Click here for an answer.</summary>\n",
    "\n",
    "`PositionMagnitude` is called twice: Once in Line 7 and once in the lines we added. I can tell because 'starting function' is printed each time. The values of `x` and `y` change based on the inputs provided.\n",
    "</details>"
   ]
  },
  {
   "cell_type": "markdown",
   "metadata": {},
   "source": [
    "# 3. Keeping track of variables\n",
    "\n",
    "The input variables of a function change each time they are called, and once the function is finished, Octave forgets them. That's why we call them **local variables**, because they only exist **locally** within the function.\n",
    "\n",
    "On the other hand, you can make a **global variable**, meaning it exists **everywhere**, and can be used inside the function.\n",
    "\n",
    "For example, suppose we wanted to create a `Distance` function (in Distance.m) to calculate the distance between the location we specify `(x,y)` and a constant reference point of `(3,9)`. We could set up the reference coordinates as a global variable, like so:"
   ]
  },
  {
   "cell_type": "code",
   "execution_count": 11,
   "metadata": {},
   "outputs": [
    {
     "name": "stdout",
     "output_type": "stream",
     "text": [
      "\n",
      "xReference =\n",
      "\n",
      "     3\n",
      "\n",
      "\n",
      "yReference =\n",
      "\n",
      "     9\n",
      "\n",
      "calling function\n",
      "starting function\n",
      "\n",
      "r =\n",
      "\n",
      "     5\n",
      "\n",
      "\n",
      "distance =\n",
      "\n",
      "     5\n",
      "\n"
     ]
    }
   ],
   "source": [
    "global xReference\n",
    "global yReference\n",
    "\n",
    "xReference = 3\n",
    "yReference = 9\n",
    "disp('calling function')\n",
    "distance = Distance(3,4) \n",
    "\n"
   ]
  },
  {
   "cell_type": "markdown",
   "metadata": {},
   "source": [
    "Add one or more `disp` commands inside the function to demonstrate the the values of `xReference` and `yReference` are the same inside the function `Distance` as they are outside.\n",
    "\n",
    "<details><summary> Click here for an answer. </summary>\n",
    "\n",
    "In Distance.m...\n",
    "    \n",
    "```\n",
    "% Define a function named Distance, with inputs x and y.\n",
    "function r = Distance(x,y) % We set an output variable equal to the function name.\n",
    "    global xReference\n",
    "    global yReference\n",
    "    disp('starting function')  % Notice that the lines inside the function are idented.\n",
    "    disp(xReference)\n",
    "    disp(yReference)\n",
    "    r = ( (x-xReference).^2 + (y-yReference).^2 ).^0.5   % Here we calculate the output variable.\n",
    "end                            % Exit the function\n",
    "\n",
    "```\n",
    "\n",
    "Calling the function prints the established values of `xReference` and `yReference`.\n",
    "    \n",
    "</details>\n",
    "\n",
    "Why is it important to keep track of which variables are global and which are local?\n",
    "\n",
    "<details><summary> Click here for an answer. </summary>\n",
    "\n",
    "It's important to know \"what's going on\" inside the function. If a function isn't producing results as expected, it's worthwhile to look for the definitions of global variables.\n",
    "\n",
    "</details>"
   ]
  },
  {
   "cell_type": "markdown",
   "metadata": {},
   "source": [
    "# 4. Defining a function for our $e$ series\n",
    "\n",
    "Let's see how a function can help us in our quest to calculate $e$ using a series expansion. We started with an expression for the series expansion for $e$ as \n",
    "\n",
    "\\begin{equation}\n",
    "e = 1 + \\frac{1}{1!} + \\frac{1}{2!} + \\frac{1}{3!} + \\frac{1}{4!} + \\frac{1}{5!} + \\frac{1}{6!} + \\ldots\n",
    "\\end{equation}\n",
    "\n",
    "To set up this computation using a function, we need to think of a generic form for each term in the series. After the 0th term, the generic form for term $a_n$ is\n",
    "\\begin{equation}\n",
    " a_n = \\frac{1}{n!}.\n",
    "\\end{equation}\n",
    "\n",
    "We can turn this into a function `Term(n)` if we calculate $n!$ and take its inverse. Read the following code cell to see how."
   ]
  },
  {
   "cell_type": "code",
   "execution_count": 12,
   "metadata": {},
   "outputs": [
    {
     "name": "stdout",
     "output_type": "stream",
     "text": [
      "\n",
      "a =\n",
      "\n",
      "     1\n",
      "\n",
      "\n",
      "a =\n",
      "\n",
      "    0.5000\n",
      "\n",
      "\n",
      "a =\n",
      "\n",
      "    0.1667\n",
      "\n",
      "\n",
      "eEstimate =\n",
      "\n",
      "    2.6667\n",
      "\n"
     ]
    }
   ],
   "source": [
    "% Sum up the first 4 terms.\n",
    "eEstimate = 1 + Term(1) + Term(2) + Term(3)\n"
   ]
  },
  {
   "cell_type": "markdown",
   "metadata": {},
   "source": [
    "Add a `disp` command to Line 6 to show you the current value of `factorial(n)` being used in the function. Run the code cell and confirm that the values of $n!$ are appropriate.\n",
    "\n",
    "Add the next 4 terms to `eEstimate` on Line 2. Run the code cell and check on your estimate for $e$.\n",
    "\n",
    "How is this process advantageous to how we calculated $e$ in Octave Tutorial 1?"
   ]
  },
  {
   "cell_type": "markdown",
   "metadata": {},
   "source": [
    "# 5. Optional: Combining Everything We've Learned\n",
    "\n",
    "You should complete this step only if you've completed Octave Tutorials 1-5. Otherwise, skip to Step 6. \n",
    "\n",
    "The code cell below uses **everything we've learned** (variables, arrays, loops, control statements, and functions) to calculate $e^{-1}$ and graph the error in this calculation versus the number of terms in the series:\n",
    "\n",
    "\\begin{equation}\n",
    "e = 1 - \\frac{1}{1!} + \\frac{1}{2!} - \\frac{1}{3!} + \\frac{1}{4!} - \\frac{1}{5!} + \\frac{1}{6!} - \\ldots\n",
    "\\end{equation}\n",
    "\n",
    "Read through the code cell and add comments to explain what each line does. Add print statements and re-run the code cell as many times as you need to make sense of it in terms of the individual pieces. **If you can understand this code cell and use it, then you are in good shape!**\n",
    "\n",
    "<details><summary> Click here for an answer. </summary>\n",
    "\n",
    "```\n",
    "from math import factorial as factorial # Import the factorial function.\n",
    "import numpy as np # Import numpy for arrays.\n",
    "import matplotlib.pyplot as plt # Import plotting functions.\n",
    "%matplotlib inline # Display the graph in the output.\n",
    "\n",
    "def Term(n): # Define a function for term n.\n",
    "    if (n%2 == 0): # Check n for even or odd to determine whether term is added or subtracted.\n",
    "        PlusOrMinus = 1 # even --> add\n",
    "    else:\n",
    "        PlusOrMinus = -1 # odd --> subtract\n",
    "    a = PlusOrMinus / factorial(n) # Calculate this term.\n",
    "    return a # Return this term's value.\n",
    "\n",
    "nArray = range(0,11) # Set up an array of term numbers n.\n",
    "error  = np.empty(11) # Set up an empty array of error values.\n",
    "estimate = 0 # Start the summation at 0.\n",
    "realValue = 0.36787944117 # Record the real value of e^-1.\n",
    "\n",
    "for n in nArray: # Start looping over n. Notice that we start with n = 0 since the factorial function can handle 0 factorial!\n",
    "    estimate = estimate + Term(n) # Update the estimate value by calling the function.\n",
    "    error[n] = estimate-realValue # Calculate the current error in e^-1.\n",
    "\n",
    "MyFigure, MyPlot = plt.subplots() # Set up plotting area.\n",
    "MyPlot.plot(nArray,error) # Plot the values of error versus n.\n",
    "print(estimate) # Print our current estimate for e^-1.\n",
    "```\n",
    "\n",
    "</details>"
   ]
  },
  {
   "cell_type": "code",
   "execution_count": 19,
   "metadata": {},
   "outputs": [
    {
     "name": "stdout",
     "output_type": "stream",
     "text": [
      "\n",
      "estimate =\n",
      "\n",
      "     1\n",
      "\n",
      "\n",
      "realValue =\n",
      "\n",
      "    0.3679\n",
      "\n"
     ]
    },
    {
     "data": {
      "image/png": "[encoded data removed]",
      "text/plain": [
       "<IPython.core.display.Image object>"
      ]
     },
     "metadata": {},
     "output_type": "display_data"
    }
   ],
   "source": [
    "estimate = 1;\n",
    "realValue = 0.36787944117;\n",
    "\n",
    "for n = 1:1:10\n",
    "    nArray(n) = n;\n",
    "    estimate = estimate + PlusOrMinusTerm(n);\n",
    "    err(n) = estimate-realValue;\n",
    "end\n",
    "\n",
    "plot(nArray,err)"
   ]
  },
  {
   "cell_type": "markdown",
   "metadata": {},
   "source": [
    "# 6. Your turn\n",
    "\n",
    "You previously developed a code cell that would calculate a gravitational potential energy value $U$ for two objects separated by a distance $r$. \n",
    "\n",
    "Copy and paste that code cell below. Then, modify the code cell so that your calculation of $U$ takes place inside a function `PotentialEnergy(r)`. Call your function several times for different values of $r$."
   ]
  },
  {
   "cell_type": "code",
   "execution_count": null,
   "metadata": {},
   "outputs": [],
   "source": []
  }
 ],
 "metadata": {
  "kernelspec": {
   "display_name": "Octave",
   "language": "matlab",
   "name": "matlab"
  },
  "language_info": {
   "codemirror_mode": "octave",
   "file_extension": ".m",
   "help_links": [
    {
     "text": "MetaKernel Magics",
     "url": "https://github.com/calysto/metakernel/blob/master/metakernel/magics/README.md"
    }
   ],
   "mimetype": "text/x-octave",
   "name": "matlab",
   "version": "0.15.1"
  }
 },
 "nbformat": 4,
 "nbformat_minor": 2
}
